{
 "cells": [
  {
   "cell_type": "markdown",
   "id": "9388c169",
   "metadata": {},
   "source": [
    "# Libraries"
   ]
  },
  {
   "cell_type": "code",
   "execution_count": null,
   "id": "e475a235",
   "metadata": {},
   "outputs": [],
   "source": [
    "from dbfread import DBF\n",
    "import pandas as pd\n",
    "import os\n",
    "import matplotlib.pyplot as plt\n",
    "from sklearn.linear_model import LinearRegression\n",
    "import numpy as np\n",
    "from sklearn.metrics import r2_score, mean_absolute_error, mean_squared_error\n",
    "from sklearn.preprocessing import PolynomialFeatures\n",
    "from sklearn.neighbors import KNeighborsRegressor\n",
    "import seaborn as sns"
   ]
  },
  {
   "cell_type": "markdown",
   "id": "763405fd",
   "metadata": {},
   "source": [
    "# Load Tables"
   ]
  },
  {
   "cell_type": "markdown",
   "id": "0af0181e",
   "metadata": {},
   "source": [
    "### VENTA"
   ]
  },
  {
   "cell_type": "code",
   "execution_count": null,
   "id": "5ed20cf3",
   "metadata": {},
   "outputs": [],
   "source": [
    "rutaVENTA = os.path.join(\"Dataset\", \"VENTA.DBF\")\n",
    "tablaVENTA = DBF(rutaVENTA, encoding='latin1', load=True)\n",
    "dfVENTA = pd.DataFrame(iter(tablaVENTA))"
   ]
  },
  {
   "cell_type": "markdown",
   "id": "323f0cd0",
   "metadata": {},
   "source": [
    "### DVENTA"
   ]
  },
  {
   "cell_type": "code",
   "execution_count": null,
   "id": "515334f2",
   "metadata": {},
   "outputs": [],
   "source": [
    "rutaDVENTA = os.path.join(\"Dataset\", \"DVENTA.DBF\")\n",
    "tablaDVENTA = DBF(rutaDVENTA, encoding='latin1', load=True)\n",
    "dfDVENTA = pd.DataFrame(iter(tablaDVENTA))"
   ]
  },
  {
   "cell_type": "markdown",
   "id": "cdfd42da",
   "metadata": {},
   "source": [
    "### INFO producto"
   ]
  },
  {
   "cell_type": "code",
   "execution_count": null,
   "id": "35c5d5c4",
   "metadata": {},
   "outputs": [],
   "source": [
    "rutaINFO = os.path.join(\"Dataset\", \"in-f01.DBF\")\n",
    "tablaINFO = (DBF(rutaINFO, load=True, encoding='latin-1'))\n",
    "dfINFO = pd.DataFrame(iter(tablaINFO))"
   ]
  },
  {
   "cell_type": "markdown",
   "id": "cc343dac",
   "metadata": {},
   "source": [
    "# Clean Tables"
   ]
  },
  {
   "cell_type": "markdown",
   "id": "515ed174",
   "metadata": {},
   "source": [
    "### Merge tables"
   ]
  },
  {
   "cell_type": "code",
   "execution_count": null,
   "id": "74ccf84f",
   "metadata": {},
   "outputs": [],
   "source": [
    "# Unir tablas venta y detalles de venta\n",
    "dfVENTA[\"FECHA_VEN\"] = pd.to_datetime(dfVENTA[\"FECHA_VEN\"], errors=\"coerce\")\n",
    "dfVENTA[\"PERIODO\"] = dfVENTA[\"FECHA_VEN\"].dt.to_period(\"M\")  # '2020-01'\n",
    "\n",
    "periodos_ordenados = sorted(dfVENTA[\"PERIODO\"].dropna().unique())\n",
    "mapa_mes_num = {periodo: idx + 1 for idx, periodo in enumerate(periodos_ordenados)}\n",
    "dfVENTA[\"MES_NUM\"] = dfVENTA[\"PERIODO\"].map(mapa_mes_num)\n",
    "\n",
    "dfVENTA_reduced = dfVENTA[[\"ID\", \"MES_NUM\", \"CLNRO\"]]\n",
    "\n",
    "dfVENTAS = dfDVENTA.merge(dfVENTA_reduced, left_on=\"IDVENTA\", right_on=\"ID\", how=\"inner\")\n",
    "\n",
    "# Para unir registros de artículos que hayan cambiado su código y agregar nombres\n",
    "\n",
    "# Filtrar solo filas donde CODIVIEJO no es nulo y diferente del CODI actual\n",
    "dfINFO_mapeo = dfINFO[(dfINFO[\"CODIVIEJO\"].notna()) & (dfINFO[\"CODIVIEJO\"] != dfINFO[\"CODI\"])][[\"CODIVIEJO\", \"CODI\"]].copy()\n",
    "\n",
    "dict_CODI = dict(zip(dfINFO_mapeo[\"CODIVIEJO\"].astype(str), dfINFO_mapeo[\"CODI\"].astype(str)))\n",
    "\n",
    "dfVENTAS[\"CODI_ORIGINAL\"] = dfVENTAS[\"CODI\"]\n",
    "dfVENTAS[\"CODI\"] = dfVENTAS[\"CODI\"].astype(str)\n",
    "dfVENTAS[\"CODI_UNIFICADO\"] = dfVENTAS[\"CODI\"].map(dict_CODI).fillna(dfVENTAS[\"CODI\"])"
   ]
  },
  {
   "cell_type": "code",
   "execution_count": null,
   "id": "d106f888",
   "metadata": {},
   "outputs": [],
   "source": [
    "# Filas donde hubo reemplazo de código\n",
    "reemplazados = dfVENTAS[dfVENTAS[\"CODI_UNIFICADO\"] != dfVENTAS[\"CODI_ORIGINAL\"]]\n",
    "\n",
    "# Mostrar ejemplos\n",
    "print(\"Ejemplos de códigos reemplazados:\")\n",
    "print(reemplazados[[\"CODI_ORIGINAL\", \"CODI_UNIFICADO\"]].drop_duplicates().head(10))\n",
    "\n",
    "# Contar cuántos códigos distintos fueron reemplazados\n",
    "cantidad_reemplazos = reemplazados[\"CODI_ORIGINAL\"].nunique()\n",
    "print(f\"\\nCantidad total de códigos diferentes que fueron reemplazados: {cantidad_reemplazos}\")\n"
   ]
  },
  {
   "cell_type": "code",
   "execution_count": null,
   "id": "3e339e38",
   "metadata": {},
   "outputs": [],
   "source": [
    "# Asegurar que la columna PERIODO esté en tipo fecha o período mensual\n",
    "dfVENTAS[\"PERIODO\"] = dfVENTAS[\"MES_NUM\"].map({v: k for k, v in mapa_mes_num.items()})\n",
    "dfVENTAS[\"PERIODO\"] = dfVENTAS[\"PERIODO\"].astype(str).astype(\"period[M]\")  # ej: 2020-01\n",
    "\n",
    "# Agrupar por PERIODO (mes/año) y sumar CANTIDAD\n",
    "ventas_por_mes = dfVENTAS.groupby(\"PERIODO\")[\"CANTIDAD\"].sum().sort_index()\n",
    "\n",
    "# Convertir a índice de fecha para graficar mejor\n",
    "ventas_por_mes.index = ventas_por_mes.index.to_timestamp()\n",
    "\n",
    "\n",
    "\n",
    "# Graficar\n",
    "plt.rcParams.update({\n",
    "    \"font.family\": \"serif\",\n",
    "    \"font.serif\": [\"Times New Roman\", \"Times\", \"DejaVu Serif\"],\n",
    "    \"font.size\": 12,\n",
    "})\n",
    "\n",
    "plt.figure(figsize=(14, 6))\n",
    "plt.plot(\n",
    "    ventas_por_mes.index,\n",
    "    ventas_por_mes.values,\n",
    "    marker='o',\n",
    "    linestyle='-',\n",
    "    color=\"#5e5d5d\",\n",
    "    markerfacecolor='#737373',\n",
    "    markeredgewidth=1,\n",
    "    markeredgecolor='#4d4d4d'\n",
    ")\n",
    "\n",
    "#plt.title(\"Comportamiento mensual de las ventas\", fontsize=18, fontweight='bold', color='#222222')\n",
    "plt.xlabel(\"Período (MM/AAAA)\", fontsize=16, color='#222222')\n",
    "plt.ylabel(\"Cantidad vendida (Unidades)\", fontsize=16, color='#222222')\n",
    "\n",
    "plt.grid(False) #color='#d9d9d9')\n",
    "\n",
    "ax = plt.gca()  # Obtener el eje actual\n",
    "ax.spines['top'].set_visible(False)\n",
    "ax.spines['right'].set_visible(False)\n",
    "\n",
    "# Flecha + texto para marcar marzo de 2020\n",
    "marzo_2020 = pd.Timestamp('2020-03')\n",
    "plt.annotate(\n",
    "    'Inicio de la pandemia (03/2020)',\n",
    "    xy=(marzo_2020, ventas_por_mes.loc[marzo_2020]),\n",
    "    xytext=(marzo_2020 - pd.DateOffset(months=25), ventas_por_mes.max() * 0.35),  # Ajusta la altura si queda muy arriba/abajo\n",
    "    arrowprops=dict(color=\"#bf6f37\", arrowstyle='->', linewidth = 2.5),\n",
    "    color='#222222',\n",
    "    fontsize=10,\n",
    "    ha='left'\n",
    ")\n",
    "\n",
    "\n",
    "plt.tight_layout()\n",
    "\n",
    "# Guardar en EPS\n",
    "plt.savefig(\"ventas_mensuales.eps\", format='eps')\n",
    "plt.show()"
   ]
  },
  {
   "cell_type": "code",
   "execution_count": null,
   "id": "073cc8b0",
   "metadata": {},
   "outputs": [],
   "source": [
    "print(dfVENTAS.columns)"
   ]
  },
  {
   "cell_type": "code",
   "execution_count": null,
   "id": "1752daa3",
   "metadata": {},
   "outputs": [],
   "source": [
    "# Extraer año desde 'PERIODO' (que es Period)\n",
    "dfVENTAS[\"AÑO\"] = dfVENTAS[\"PERIODO\"].dt.year\n",
    "\n",
    "# Agrupar por año sumando la cantidad\n",
    "ventas_anuales = dfVENTAS.groupby(\"AÑO\")[\"CANTIDAD\"].sum().sort_index()\n",
    "\n",
    "# Graficar\n",
    "plt.figure(figsize=(10, 6))\n",
    "plt.bar(\n",
    "    ventas_anuales.index.astype(str), \n",
    "    ventas_anuales.values, \n",
    "    color=\"#868686\"  # gris oscuro para las barras\n",
    ")\n",
    "plt.title(\"Ventas Totales por Año\", fontsize=14, color='#222222')\n",
    "plt.xlabel(\"Año\", fontsize=12, color='#222222')\n",
    "plt.ylabel(\"Cantidad Vendida\", fontsize=12, color='#222222')\n",
    "plt.grid(axis='y', linestyle='--', color='#d9d9d9', alpha=0.7)  # gris claro para grid\n",
    "plt.tight_layout()\n",
    "plt.show()"
   ]
  },
  {
   "cell_type": "markdown",
   "id": "f6c3d030",
   "metadata": {},
   "source": [
    "### De anual a mensual por numero de meses"
   ]
  },
  {
   "cell_type": "code",
   "execution_count": null,
   "id": "b7413e82",
   "metadata": {},
   "outputs": [],
   "source": [
    "dfVENTAS_grouped = dfVENTAS.groupby([\"MES_NUM\", \"CODI_UNIFICADO\"])[\"CANTIDAD\"].sum().reset_index()\n",
    "dfVENTAS_grouped.rename(columns={\"CODI_UNIFICADO\": \"CODI\"}, inplace=True)\n",
    "\n",
    "mapa_mesnum_a_periodo = {idx + 1: str(periodo) for idx, periodo in enumerate(periodos_ordenados)}\n",
    "mapa_periodo_a_mesnum = {str(periodo): idx + 1 for idx, periodo in enumerate(periodos_ordenados)}\n",
    "print(\"MES_NUM 1 corresponde a:\", mapa_mesnum_a_periodo[1])\n",
    "print(\"PERIODO '2020-01' corresponde a MES_NUM:\", mapa_periodo_a_mesnum[\"2020-01\"])"
   ]
  },
  {
   "cell_type": "code",
   "execution_count": null,
   "id": "d59c7a50",
   "metadata": {},
   "outputs": [],
   "source": [
    "mapa_periodo_a_mesnum[\"2020-03\"]"
   ]
  },
  {
   "cell_type": "markdown",
   "id": "7df7b6ac",
   "metadata": {},
   "source": [
    "## Fitrado Datos Naturales"
   ]
  },
  {
   "cell_type": "markdown",
   "id": "cbf9924b",
   "metadata": {},
   "source": [
    "### Filtro Todos los artículos"
   ]
  },
  {
   "cell_type": "code",
   "execution_count": null,
   "id": "4283122f",
   "metadata": {},
   "outputs": [],
   "source": [
    "# Base natural\n",
    "dfVENTAS_N_T_P = dfVENTAS_grouped.copy()\n",
    "dfVENTAS_N_T_NP = dfVENTAS_N_T_P[dfVENTAS_N_T_P[\"MES_NUM\"] <= mapa_periodo_a_mesnum[\"2020-02\"]]"
   ]
  },
  {
   "cell_type": "markdown",
   "id": "984bc603",
   "metadata": {},
   "source": [
    "### Artículos vendidos en ultimos 48 meses"
   ]
  },
  {
   "cell_type": "code",
   "execution_count": null,
   "id": "7acd61af",
   "metadata": {},
   "outputs": [],
   "source": [
    "# Último mes en el dataset\n",
    "ultimo_mes = dfVENTAS_grouped[\"MES_NUM\"].max()\n",
    "\n",
    "# Últimos 48 meses\n",
    "meses_48 = sorted(dfVENTAS_grouped[\"MES_NUM\"].unique())[-48:]\n",
    "\n",
    "# Dividir los 48 meses en 4 bloques de 12 meses (1 año cada uno)\n",
    "bloques_anuales = [\n",
    "    meses_48[i*12:(i+1)*12] for i in range(4)\n",
    "]\n",
    "\n",
    "# Filtrar solo artículos que aparecen al menos 1 vez en cada bloque\n",
    "articulos_validos = set(dfVENTAS_N_T_P[\"CODI\"].unique())\n",
    "\n",
    "for bloque in bloques_anuales:\n",
    "    articulos_en_bloque = set(\n",
    "        dfVENTAS_N_T_P[dfVENTAS_N_T_P[\"MES_NUM\"].isin(bloque)][\"CODI\"].unique()\n",
    "    )\n",
    "    articulos_validos &= articulos_en_bloque  # Intersección acumulada\n",
    "\n",
    "dfVENTAS_N_48_P = dfVENTAS_N_T_P[dfVENTAS_N_T_P[\"CODI\"].isin(articulos_validos)]\n",
    "dfVENTAS_N_48_NP = dfVENTAS_N_48_P[dfVENTAS_N_48_P[\"MES_NUM\"] <= mapa_periodo_a_mesnum[\"2020-02\"]]"
   ]
  },
  {
   "cell_type": "markdown",
   "id": "da6f6047",
   "metadata": {},
   "source": [
    "## Filtrado Datos Atípicos"
   ]
  },
  {
   "cell_type": "code",
   "execution_count": null,
   "id": "7de4a115",
   "metadata": {},
   "outputs": [],
   "source": [
    "def filtrar_IQR(df, columna=\"CANTIDAD\"):\n",
    "    Q1 = df[columna].quantile(0.25)\n",
    "    Q3 = df[columna].quantile(0.75)\n",
    "    IQR = Q3 - Q1\n",
    "    lim_inf = Q1 - 1.5 * IQR\n",
    "    lim_sup = Q3 + 1.5 * IQR\n",
    "    return df[(df[columna] >= lim_inf) & (df[columna] <= lim_sup)]"
   ]
  },
  {
   "cell_type": "markdown",
   "id": "57cdd9c9",
   "metadata": {},
   "source": [
    "### Filtro todos los articulos"
   ]
  },
  {
   "cell_type": "code",
   "execution_count": null,
   "id": "2bfb4f34",
   "metadata": {},
   "outputs": [],
   "source": [
    "dfVENTAS_F_T_P = filtrar_IQR(dfVENTAS_grouped)\n",
    "dfVENTAS_F_T_NP = filtrar_IQR(dfVENTAS_grouped[dfVENTAS_grouped[\"MES_NUM\"] <= mapa_periodo_a_mesnum[\"2020-02\"]])"
   ]
  },
  {
   "cell_type": "markdown",
   "id": "1e3afb41",
   "metadata": {},
   "source": [
    "### Articulos 48 meses"
   ]
  },
  {
   "cell_type": "code",
   "execution_count": null,
   "id": "c2635306",
   "metadata": {},
   "outputs": [],
   "source": [
    "# Dividir los últimos 48 meses en 4 bloques de 12 meses\n",
    "bloques_anuales = [meses_48[i*12:(i+1)*12] for i in range(4)]\n",
    "\n",
    "articulos_validos_F = set(dfVENTAS_F_T_P[\"CODI\"].unique())\n",
    "\n",
    "for bloque in bloques_anuales:\n",
    "    articulos_en_bloque = set(\n",
    "        dfVENTAS_F_T_P[dfVENTAS_F_T_P[\"MES_NUM\"].isin(bloque)][\"CODI\"].unique()\n",
    "    )\n",
    "    articulos_validos_F &= articulos_en_bloque\n",
    "\n",
    "dfVENTAS_F_48_P = dfVENTAS_F_T_P[dfVENTAS_F_T_P[\"CODI\"].isin(articulos_validos_F)]\n",
    "dfVENTAS_F_48_NP = dfVENTAS_F_48_P[dfVENTAS_F_48_P[\"MES_NUM\"] <= mapa_periodo_a_mesnum[\"2020-02\"]]"
   ]
  },
  {
   "cell_type": "code",
   "execution_count": null,
   "id": "6555816d",
   "metadata": {},
   "outputs": [],
   "source": [
    "# Conjunto de artículos válidos en ambas versiones\n",
    "articulos_comunes = set(dfVENTAS_N_48_P[\"CODI\"].unique()) & set(dfVENTAS_F_48_P[\"CODI\"].unique())\n",
    "\n",
    "# Filtrar dfVENTAS_N_48_P conservando solo los artículos comunes\n",
    "dfVENTAS_N_48_P = dfVENTAS_N_48_P[dfVENTAS_N_48_P[\"CODI\"].isin(articulos_comunes)]\n",
    "dfVENTAS_N_48_NP = dfVENTAS_N_48_P[dfVENTAS_N_48_P[\"MES_NUM\"] <= mapa_periodo_a_mesnum[\"2020-02\"]]"
   ]
  },
  {
   "cell_type": "code",
   "execution_count": null,
   "id": "3591ed7e",
   "metadata": {},
   "outputs": [],
   "source": [
    "solo_en_F = set(dfVENTAS_F_48_P[\"CODI\"].unique()) - set(dfVENTAS_N_48_P[\"CODI\"].unique())\n",
    "solo_en_N = set(dfVENTAS_N_48_P[\"CODI\"].unique()) - set(dfVENTAS_F_48_P[\"CODI\"].unique())\n",
    "\n",
    "print(f\"Artículos solo en filtrado (F): {len(solo_en_F)}\")\n",
    "print(f\"Artículos solo en natural (N): {len(solo_en_N)}\")"
   ]
  },
  {
   "cell_type": "markdown",
   "id": "45ce9ac1",
   "metadata": {},
   "source": [
    "### Ultimo filtrado, articulos con 4 o mas entradas para que se les pueda aplicar los modelos "
   ]
  },
  {
   "cell_type": "code",
   "execution_count": null,
   "id": "72c3f62d",
   "metadata": {},
   "outputs": [],
   "source": [
    "dataframes_ventas = {\n",
    "    \"N_T_P\": dfVENTAS_N_T_P,\n",
    "    \"N_T_NP\": dfVENTAS_N_T_NP,\n",
    "    \"N_48_P\": dfVENTAS_N_48_P,\n",
    "    \"N_48_NP\": dfVENTAS_N_48_NP,\n",
    "    \"F_T_P\": dfVENTAS_F_T_P,\n",
    "    \"F_T_NP\": dfVENTAS_F_T_NP,\n",
    "    \"F_48_P\": dfVENTAS_F_48_P,\n",
    "}"
   ]
  },
  {
   "cell_type": "code",
   "execution_count": null,
   "id": "9c335e3b",
   "metadata": {},
   "outputs": [],
   "source": [
    "def filtrar_articulos_con_minimo(df, minimo=4):\n",
    "    conteo = df[\"CODI\"].value_counts()\n",
    "    codigos_validos = conteo[conteo >= minimo].index\n",
    "    return df[df[\"CODI\"].isin(codigos_validos)]\n",
    "\n",
    "for nombre in list(dataframes_ventas.keys()):\n",
    "    dataframes_ventas[nombre] = filtrar_articulos_con_minimo(dataframes_ventas[nombre])"
   ]
  },
  {
   "cell_type": "code",
   "execution_count": null,
   "id": "8fa803e1",
   "metadata": {},
   "outputs": [],
   "source": [
    "# Artículos que estaban en datos naturales pero NO en los filtrados\n",
    "codis_naturales = set(dfVENTAS_N_T_P[\"CODI\"])\n",
    "codis_filtrados = set(dfVENTAS_F_T_P[\"CODI\"])\n",
    "codis_perdidos = codis_naturales - codis_filtrados\n",
    "\n",
    "print(f\"Artículos eliminados por el filtrado: {len(codis_perdidos)}\")"
   ]
  },
  {
   "cell_type": "markdown",
   "id": "966a319e",
   "metadata": {},
   "source": [
    "# Analysis pre experimentos"
   ]
  },
  {
   "cell_type": "markdown",
   "id": "9fda8af9",
   "metadata": {},
   "source": [
    "## Cantidad de articulos disponibles para aplicar modelos"
   ]
  },
  {
   "cell_type": "code",
   "execution_count": null,
   "id": "70c155b0",
   "metadata": {},
   "outputs": [],
   "source": [
    "for nombre, df in dataframes_ventas.items():\n",
    "    print(f\"{nombre}: {df['CODI'].nunique()}\")"
   ]
  },
  {
   "cell_type": "code",
   "execution_count": null,
   "id": "c3be133b",
   "metadata": {},
   "outputs": [],
   "source": [
    "print(\"Primer PERIODO:\", dfVENTA[\"PERIODO\"].min())\n",
    "print(\"Último PERIODO:\", dfVENTA[\"PERIODO\"].max())\n",
    "print(\"Primer MES_NUM:\", dfVENTA[\"MES_NUM\"].min())\n",
    "print(\"Último MES_NUM:\", dfVENTA[\"MES_NUM\"].max())"
   ]
  },
  {
   "cell_type": "markdown",
   "id": "7ee6eeac",
   "metadata": {},
   "source": [
    "# Experimentos/Modelado"
   ]
  },
  {
   "cell_type": "markdown",
   "id": "1c10a92f",
   "metadata": {},
   "source": [
    "## Versus de regresion lineal, cuadratica y KNN para todos los dataframes"
   ]
  },
  {
   "cell_type": "markdown",
   "id": "ffc3ef6c",
   "metadata": {},
   "source": [
    "### Funcion vs1"
   ]
  },
  {
   "cell_type": "code",
   "execution_count": null,
   "id": "4781fdcd",
   "metadata": {},
   "outputs": [],
   "source": [
    "def vs1(df_input, df_info):\n",
    "\n",
    "    resultados = []\n",
    "    df_input = df_input.copy()\n",
    "\n",
    "    for producto in df_input[\"CODI\"].unique():\n",
    "        df_producto = df_input[df_input[\"CODI\"] == producto]\n",
    "        if len(df_producto) < 4:\n",
    "            continue\n",
    "\n",
    "        x = df_producto[[\"MES_NUM\"]].values\n",
    "        y = df_producto[\"CANTIDAD\"].values\n",
    "\n",
    "        modelo_lineal = LinearRegression().fit(x, y)\n",
    "        y_pred_lineal = modelo_lineal.predict(x)\n",
    "        r2_lineal = r2_score(y, y_pred_lineal)\n",
    "        mae_lineal = mean_absolute_error(y, y_pred_lineal)\n",
    "        rmse_lineal = np.sqrt(mean_squared_error(y, y_pred_lineal))\n",
    "\n",
    "        poly = PolynomialFeatures(degree=2)\n",
    "        x_poly = poly.fit_transform(x)\n",
    "        modelo_poly = LinearRegression().fit(x_poly, y)\n",
    "        y_pred_poly = modelo_poly.predict(x_poly)\n",
    "        r2_poly = r2_score(y, y_pred_poly)\n",
    "        mae_poly = mean_absolute_error(y, y_pred_poly)\n",
    "        rmse_poly = np.sqrt(mean_squared_error(y, y_pred_poly))\n",
    "\n",
    "        if r2_poly > r2_lineal:\n",
    "            mejor_modelo = \"cuadrático\"\n",
    "            r2, mae, rmse = r2_poly, mae_poly, rmse_poly\n",
    "        else:\n",
    "            mejor_modelo = \"lineal\"\n",
    "            r2, mae, rmse = r2_lineal, mae_lineal, rmse_lineal\n",
    "\n",
    "        resultados.append({\n",
    "            \"CODI\": producto,\n",
    "            \"Modelo_ganador\": mejor_modelo,\n",
    "            \"R2_vs1\": r2,\n",
    "            \"MAE_vs1\": mae,\n",
    "            \"RMSE_vs1\": rmse\n",
    "        })\n",
    "\n",
    "    df_resultados = pd.DataFrame(resultados)\n",
    "    df_resultados[\"CODI\"] = df_resultados[\"CODI\"].astype(str)\n",
    "    df_info[\"CODI\"] = df_info[\"CODI\"].astype(str)\n",
    "    df_resultados = df_resultados.merge(df_info[[\"CODI\", \"DES\"]], on=\"CODI\", how=\"left\")\n",
    "    df_resultados = df_resultados.sort_values(by=\"R2_vs1\", ascending=False).reset_index(drop=True)\n",
    "\n",
    "    return df_resultados"
   ]
  },
  {
   "cell_type": "markdown",
   "id": "b4b9d13c",
   "metadata": {},
   "source": [
    "### Funcion vs2"
   ]
  },
  {
   "cell_type": "code",
   "execution_count": null,
   "id": "85a534fd",
   "metadata": {},
   "outputs": [],
   "source": [
    "def vs2(df_input, df_vs1):\n",
    "    from sklearn.neighbors import KNeighborsRegressor\n",
    "    from sklearn.metrics import r2_score, mean_absolute_error, mean_squared_error\n",
    "    import pandas as pd\n",
    "    import numpy as np\n",
    "\n",
    "    resultados = []\n",
    "    df_input = df_input.copy()\n",
    "    df_vs1 = df_vs1.set_index(\"CODI\")\n",
    "\n",
    "    for producto in df_input[\"CODI\"].unique():\n",
    "        df_producto = df_input[df_input[\"CODI\"] == producto]\n",
    "        if len(df_producto) < 4 or producto not in df_vs1.index:\n",
    "            continue\n",
    "\n",
    "        x = df_producto[[\"MES_NUM\"]].values\n",
    "        y = df_producto[\"CANTIDAD\"].values\n",
    "\n",
    "        modelo_knn = KNeighborsRegressor(n_neighbors=3)\n",
    "        modelo_knn.fit(x, y)\n",
    "        y_pred_knn = modelo_knn.predict(x)\n",
    "        r2_knn = r2_score(y, y_pred_knn)\n",
    "        mae_knn = mean_absolute_error(y, y_pred_knn)\n",
    "        rmse_knn = np.sqrt(mean_squared_error(y, y_pred_knn))\n",
    "\n",
    "        mejor_vs1 = df_vs1.loc[producto, \"Modelo_ganador\"]\n",
    "        r2_vs1 = df_vs1.loc[producto, \"R2_vs1\"]\n",
    "        mae_vs1 = df_vs1.loc[producto, \"MAE_vs1\"]\n",
    "        rmse_vs1 = df_vs1.loc[producto, \"RMSE_vs1\"]\n",
    "\n",
    "        if r2_knn > r2_vs1:\n",
    "            ganador = \"knn\"\n",
    "            r2, mae, rmse = r2_knn, mae_knn, rmse_knn\n",
    "        else:\n",
    "            ganador = mejor_vs1\n",
    "            r2, mae, rmse = r2_vs1, mae_vs1, rmse_vs1\n",
    "\n",
    "        resultados.append({\n",
    "            \"CODI\": producto,\n",
    "            \"Modelo_ganador\": ganador,\n",
    "            \"R2_final\": r2,\n",
    "            \"MAE_final\": mae,\n",
    "            \"RMSE_final\": rmse\n",
    "        })\n",
    "\n",
    "    df_resultados_vs2 = pd.DataFrame(resultados)\n",
    "    return df_resultados_vs2"
   ]
  },
  {
   "cell_type": "markdown",
   "id": "2f1ca634",
   "metadata": {},
   "source": [
    "### Filtrar R2 altos"
   ]
  },
  {
   "cell_type": "code",
   "execution_count": null,
   "id": "3772110e",
   "metadata": {},
   "outputs": [],
   "source": [
    "def filtrar_por_r2(df_resultados, umbral=0.6):\n",
    "    df_filtrado = df_resultados[df_resultados[\"R2\"] >= umbral].copy()\n",
    "    df_filtrado = df_filtrado.sort_values(by=\"R2\", ascending=False).reset_index(drop=True)\n",
    "    return df_filtrado"
   ]
  },
  {
   "cell_type": "markdown",
   "id": "d2d919c1",
   "metadata": {},
   "source": [
    "### Aplicar modelos"
   ]
  },
  {
   "cell_type": "code",
   "execution_count": null,
   "id": "43d6c09f",
   "metadata": {},
   "outputs": [],
   "source": [
    "# Subconjunto deseado\n",
    "dataframes_filtrados = {\n",
    "    k: v for k, v in dataframes_ventas.items()\n",
    "    if k in [\"N_48_P\", \"N_48_NP\", \"F_48_P\", \"F_48_NP\"]\n",
    "}"
   ]
  },
  {
   "cell_type": "code",
   "execution_count": null,
   "id": "cb8f9117",
   "metadata": {},
   "outputs": [],
   "source": [
    "resultados_vs1 = {}\n",
    "resultados_vs2 = {}\n",
    "\n",
    "for nombre_df, df in dataframes_filtrados.items():\n",
    "    print(f\"Procesando {nombre_df}...\")\n",
    "    \n",
    "    # Evaluar vs1 (lineal vs cuadrático)\n",
    "    df_vs1 = vs1(df, dfINFO)\n",
    "    resultados_vs1[nombre_df] = df_vs1\n",
    "\n",
    "    # Evaluar vs2 (ganador vs KNN)\n",
    "    df_vs2 = vs2(df, df_vs1)\n",
    "    resultados_vs2[nombre_df] = df_vs2\n"
   ]
  },
  {
   "cell_type": "code",
   "execution_count": null,
   "id": "82366449",
   "metadata": {},
   "outputs": [],
   "source": [
    "# Aplicar filtro R2 >= 0.6 a todos los resultados de vs1\n",
    "resultados_vs1_filtrados = {}\n",
    "\n",
    "for nombre, df in resultados_vs1.items():\n",
    "    df_filtrado = df.copy()\n",
    "    df_filtrado.rename(columns={\"R2_vs1\": \"R2\"}, inplace=True)\n",
    "    df_filtrado = filtrar_por_r2(df_filtrado, umbral=0.6)\n",
    "    resultados_vs1_filtrados[nombre] = df_filtrado"
   ]
  },
  {
   "cell_type": "code",
   "execution_count": null,
   "id": "4016870f",
   "metadata": {},
   "outputs": [],
   "source": [
    "# Aplicar filtro R2 >= 0.6 a todos los resultados de vs2\n",
    "resultados_vs2_filtrados = {}\n",
    "\n",
    "for nombre, df in resultados_vs2.items():\n",
    "    df_filtrado = df.copy()\n",
    "    df_filtrado.rename(columns={\"R2_final\": \"R2\"}, inplace=True)\n",
    "    df_filtrado = filtrar_por_r2(df_filtrado, umbral=0.6)\n",
    "    resultados_vs2_filtrados[nombre] = df_filtrado"
   ]
  },
  {
   "cell_type": "markdown",
   "id": "42677ef7",
   "metadata": {},
   "source": [
    "# Evaluación"
   ]
  },
  {
   "cell_type": "markdown",
   "id": "3b01b573",
   "metadata": {},
   "source": [
    "### Resultados Sin filtrar con umbral"
   ]
  },
  {
   "cell_type": "code",
   "execution_count": null,
   "id": "121fd382",
   "metadata": {},
   "outputs": [],
   "source": [
    "for nombre_df, df_vs1 in resultados_vs1.items():\n",
    "    cantidad_articulos = len(df_vs1)\n",
    "    print(f\"\\n{nombre_df} | Artículos = {cantidad_articulos}\")\n",
    "\n",
    "    # Contar cuántos productos ganaron con cada modelo\n",
    "    conteo_modelos = df_vs1[\"Modelo_ganador\"].value_counts()\n",
    "\n",
    "    for modelo, cantidad in conteo_modelos.items():\n",
    "        print(f\"{modelo:<11} {cantidad}\")"
   ]
  },
  {
   "cell_type": "code",
   "execution_count": null,
   "id": "1587a033",
   "metadata": {},
   "outputs": [],
   "source": [
    "for nombre_df, df_vs2 in resultados_vs2.items():\n",
    "    cantidad_articulos = len(df_vs2)\n",
    "    print(f\"\\n{nombre_df} | Artículos = {cantidad_articulos}\")\n",
    "\n",
    "    # Contar cuántos productos ganaron con cada modelo\n",
    "    conteo_modelos = df_vs2[\"Modelo_ganador\"].value_counts()\n",
    "\n",
    "    for modelo, cantidad in conteo_modelos.items():\n",
    "        print(f\"{modelo:<11} {cantidad}\")\n"
   ]
  },
  {
   "cell_type": "markdown",
   "id": "b8d72a3a",
   "metadata": {},
   "source": [
    "### Resultados Filtrados por umbral"
   ]
  },
  {
   "cell_type": "code",
   "execution_count": null,
   "id": "274c651f",
   "metadata": {},
   "outputs": [],
   "source": [
    "for nombre, df_filtrado in resultados_vs1_filtrados.items():\n",
    "    total = len(df_filtrado)\n",
    "    conteo_modelos = df_filtrado[\"Modelo_ganador\"].value_counts()\n",
    "    \n",
    "    print(f\"{nombre} | Artículos con R2 >= 0.6 = {total}\")\n",
    "    for modelo, cantidad in conteo_modelos.items():\n",
    "        print(f\"{modelo:11} {cantidad}\")"
   ]
  },
  {
   "cell_type": "code",
   "execution_count": null,
   "id": "7a7ddb6c",
   "metadata": {},
   "outputs": [],
   "source": [
    "for nombre, df_filtrado in resultados_vs2_filtrados.items():\n",
    "    total = len(df_filtrado)\n",
    "    conteo_modelos = df_filtrado[\"Modelo_ganador\"].value_counts()\n",
    "    \n",
    "    print(f\"{nombre} | Artículos con R2 >= 0.6 = {total}\")\n",
    "    for modelo, cantidad in conteo_modelos.items():\n",
    "        print(f\"{modelo:11} {cantidad}\")\n",
    "    print()"
   ]
  },
  {
   "cell_type": "markdown",
   "id": "818881cd",
   "metadata": {},
   "source": [
    "### Tendencia decreciente o creciente de articulos con más recurrencia en ventas"
   ]
  },
  {
   "cell_type": "code",
   "execution_count": null,
   "id": "eb39b81e",
   "metadata": {},
   "outputs": [],
   "source": [
    "def detectar_tendencia(df_ventas, df_resultados, r2_minimo=0.6):\n",
    "    resultados = []\n",
    "\n",
    "    for _, fila in df_resultados.iterrows():\n",
    "        producto = fila[\"CODI\"]\n",
    "        r2 = fila.get(\"R2_final\", fila.get(\"R2_vs1\", None))\n",
    "        if r2 is None or r2 < r2_minimo:\n",
    "            continue\n",
    "\n",
    "        df_producto = df_ventas[df_ventas[\"CODI\"] == producto]\n",
    "        if df_producto[\"MES_NUM\"].nunique() < 4:\n",
    "            continue\n",
    "\n",
    "        x = df_producto[[\"MES_NUM\"]].values\n",
    "        y = df_producto[\"CANTIDAD\"].values\n",
    "\n",
    "        modelo = LinearRegression().fit(x, y)\n",
    "        pendiente = modelo.coef_[0]\n",
    "\n",
    "        if pendiente > 0.1:\n",
    "            tendencia = \"Creciente\"\n",
    "        elif pendiente < -0.1:\n",
    "            tendencia = \"Decreciente\"\n",
    "        else:\n",
    "            tendencia = \"Plana\"\n",
    "\n",
    "        resultados.append({\n",
    "            \"CODI\": producto,\n",
    "            \"R2\": r2,\n",
    "            \"Tendencia\": tendencia\n",
    "        })\n",
    "\n",
    "    return pd.DataFrame(resultados)\n",
    "\n",
    "conjuntos_modelados = [\"N_48_P\", \"N_48_NP\", \"F_48_P\", \"F_48_NP\"]\n",
    "tendencias_por_df = {}\n",
    "\n",
    "for nombre_df in conjuntos_modelados:\n",
    "    df_ventas = dataframes_ventas[nombre_df]\n",
    "    df_resultados = resultados_vs2[nombre_df]\n",
    "    df_tendencia = detectar_tendencia(df_ventas, df_resultados, r2_minimo=0.6)\n",
    "    tendencias_por_df[nombre_df] = df_tendencia"
   ]
  },
  {
   "cell_type": "markdown",
   "id": "5f57a2fb",
   "metadata": {},
   "source": [
    "## Graficar"
   ]
  },
  {
   "cell_type": "code",
   "execution_count": null,
   "id": "87c85160",
   "metadata": {},
   "outputs": [],
   "source": [
    "def graficar_topN(df_ventas, df_resultados, dfINFO, nombre_df, tipo=\"vs2\", top_n=10):\n",
    "    \"\"\"\n",
    "    Grafica top N productos según R2, usando resultados de vs1 o vs2, y usa nombres desde dfINFO.\n",
    "    \n",
    "    Parámetros:\n",
    "    - df_ventas: DataFrame con ventas (columnas: CODI, MES_NUM, CANTIDAD)\n",
    "    - df_resultados: DataFrame con resultados (vs1 o vs2)\n",
    "    - dfINFO: DataFrame con info productos (columnas: CODI, DES)\n",
    "    - nombre_df: nombre para la carpeta de guardado\n",
    "    - tipo: \"vs1\" o \"vs2\" para elegir columnas a usar\n",
    "    - top_n: cantidad de productos a graficar\n",
    "    \"\"\"\n",
    "    import os\n",
    "    import matplotlib.pyplot as plt\n",
    "    import numpy as np\n",
    "    from sklearn.linear_model import LinearRegression\n",
    "    from sklearn.preprocessing import PolynomialFeatures\n",
    "    from sklearn.neighbors import KNeighborsRegressor\n",
    "    \n",
    "    carpeta = os.path.join(\"Graficos/MENSUAL/Con R2 Filter\", nombre_df)\n",
    "    os.makedirs(carpeta, exist_ok=True)\n",
    "    \n",
    "    if tipo == \"vs1\":\n",
    "        col_modelo = \"Modelo_ganador\"\n",
    "        col_r2 = \"R2_vs1\"\n",
    "    elif tipo == \"vs2\":\n",
    "        col_modelo = \"Modelo_ganador\"\n",
    "        col_r2 = \"R2_final\"\n",
    "    else:\n",
    "        raise ValueError(\"tipo debe ser 'vs1' o 'vs2'\")\n",
    "    \n",
    "    # Filtrar top N excluyendo R2 = 1\n",
    "    df_filtrado = df_resultados[df_resultados[col_r2] < 1].sort_values(by=col_r2, ascending=False).head(top_n)\n",
    "    \n",
    "    for _, fila in df_filtrado.iterrows():\n",
    "        producto = fila[\"CODI\"]\n",
    "        mejor_modelo = fila[col_modelo]\n",
    "        r2 = fila[col_r2]\n",
    "        \n",
    "        # Buscar nombre en dfINFO\n",
    "        nombre_articulo = dfINFO.loc[dfINFO[\"CODI\"] == producto, \"DES\"]\n",
    "        if not nombre_articulo.empty:\n",
    "            nombre_articulo = nombre_articulo.values[0]\n",
    "        else:\n",
    "            nombre_articulo = \"SinNombre\"\n",
    "        \n",
    "        nombre_limpio = \"\".join(c for c in str(nombre_articulo) if c.isalnum() or c in (\" \", \"_\")).strip().replace(\" \", \"_\")[:40]\n",
    "        \n",
    "        df_producto = df_ventas[df_ventas[\"CODI\"] == producto]\n",
    "        x = df_producto[[\"MES_NUM\"]].values\n",
    "        y = df_producto[\"CANTIDAD\"].values\n",
    "        \n",
    "        plt.figure(figsize=(8,5))\n",
    "        plt.scatter(x, y, color=\"black\", label=\"Datos reales\")\n",
    "        \n",
    "        if mejor_modelo == \"lineal\":\n",
    "            modelo = LinearRegression()\n",
    "            modelo.fit(x, y)\n",
    "            y_pred = modelo.predict(x)\n",
    "            plt.plot(x, y_pred, color=\"red\", label=\"Regresión lineal\")\n",
    "        \n",
    "        elif mejor_modelo == \"cuadrático\":\n",
    "            poly = PolynomialFeatures(degree=2)\n",
    "            x_poly = poly.fit_transform(x)\n",
    "            modelo = LinearRegression()\n",
    "            modelo.fit(x_poly, y)\n",
    "            x_plot = np.linspace(x.min(), x.max(), 100).reshape(-1,1)\n",
    "            x_plot_poly = poly.transform(x_plot)\n",
    "            y_plot = modelo.predict(x_plot_poly)\n",
    "            plt.plot(x_plot, y_plot, color=\"green\", label=\"Regresión cuadrática\")\n",
    "        \n",
    "        elif mejor_modelo == \"knn\":\n",
    "            modelo = KNeighborsRegressor(n_neighbors=3)\n",
    "            modelo.fit(x, y)\n",
    "            x_plot = np.linspace(x.min(), x.max(), 100).reshape(-1,1)\n",
    "            y_plot = modelo.predict(x_plot)\n",
    "            plt.plot(x_plot, y_plot, color=\"blue\", label=\"KNN (k=3)\")\n",
    "        \n",
    "        else:\n",
    "            plt.title(f\"Producto {producto} - {nombre_articulo}\\nModelo: {mejor_modelo} (no graficado)\")\n",
    "        \n",
    "        if mejor_modelo in [\"lineal\", \"cuadrático\", \"knn\"]:\n",
    "            plt.title(f\"Producto {producto} - {nombre_articulo}\\nModelo: {mejor_modelo}\")\n",
    "        \n",
    "        plt.xlabel(\"MES_NUM\")\n",
    "        plt.ylabel(\"Cantidad vendida\")\n",
    "        plt.legend()\n",
    "        plt.grid(True)\n",
    "        \n",
    "        plt.text(0.02, 0.95, f\"$R^2$ = {r2:.3f}\",\n",
    "                 transform=plt.gca().transAxes,\n",
    "                 fontsize=10,\n",
    "                 verticalalignment=\"top\",\n",
    "                 bbox=dict(boxstyle=\"round,pad=0.3\", facecolor=\"white\", edgecolor=\"gray\"))\n",
    "        \n",
    "        ruta_archivo = os.path.join(carpeta, f\"{nombre_limpio}_CODI{producto}_{mejor_modelo}.png\")\n",
    "        plt.tight_layout()\n",
    "        plt.savefig(ruta_archivo)\n",
    "        plt.close()\n"
   ]
  },
  {
   "cell_type": "code",
   "execution_count": null,
   "id": "e4627839",
   "metadata": {},
   "outputs": [],
   "source": [
    "top_n = 100\n",
    "conjuntos_modelados = [\"N_48_P\", \"N_48_NP\", \"F_48_P\", \"F_48_NP\"]\n",
    "\n",
    "for nombre_df in conjuntos_modelados:\n",
    "    df_ventas = dataframes_ventas[nombre_df]\n",
    "    print(f\"Graficando top {top_n} de {nombre_df} con resultados vs2...\")\n",
    "    graficar_topN(\n",
    "        df_ventas=df_ventas,\n",
    "        df_resultados=resultados_vs2[nombre_df],\n",
    "        dfINFO=dfINFO,\n",
    "        nombre_df=nombre_df,\n",
    "        tipo=\"vs2\",\n",
    "        top_n=top_n\n",
    "    )\n"
   ]
  },
  {
   "cell_type": "code",
   "execution_count": null,
   "id": "57f04c55",
   "metadata": {},
   "outputs": [],
   "source": [
    "colores = {\n",
    "    'N': \"#0400ff\",        \n",
    "    'F': \"#2F44FF\",        \n",
    "    'N_R2': \"#ff0011\",     \n",
    "    'F_R2': \"#ff2336\"      \n",
    "}\n",
    "\n",
    "pares = [\n",
    "    (\"N_48_P\", \"F_48_P\"),\n",
    "    (\"N_48_NP\", \"F_48_NP\")\n",
    "]\n",
    "\n",
    "def contar_modelos(df_resultados, columna_modelo):\n",
    "    return df_resultados[columna_modelo].value_counts().to_dict()\n",
    "\n",
    "def graficar_comparacion(df1, df2, nombre1, nombre2, tipo='CL'):\n",
    "    modelo_col = \"Modelo_ganador\"\n",
    "\n",
    "    conteo1 = contar_modelos(df1, modelo_col)\n",
    "    conteo2 = contar_modelos(df2, modelo_col)\n",
    "\n",
    "    df1_f = resultados_vs1_filtrados[nombre1] if tipo == 'CL' else resultados_vs2_filtrados[nombre1]\n",
    "    df2_f = resultados_vs1_filtrados[nombre2] if tipo == 'CL' else resultados_vs2_filtrados[nombre2]\n",
    "\n",
    "    conteo1_f = contar_modelos(df1_f, modelo_col)\n",
    "    conteo2_f = contar_modelos(df2_f, modelo_col)\n",
    "\n",
    "    modelos = sorted(list(set(conteo1) | set(conteo2) | set(conteo1_f) | set(conteo2_f)))\n",
    "\n",
    "    data = []\n",
    "    for modelo in modelos:\n",
    "        data.extend([\n",
    "            {'Modelo': modelo, 'Grupo': f'{nombre1}', 'Cantidad': conteo1.get(modelo, 0), 'Color': colores['N']},\n",
    "            {'Modelo': modelo, 'Grupo': f'{nombre2}', 'Cantidad': conteo2.get(modelo, 0), 'Color': colores['F']},\n",
    "            {'Modelo': modelo, 'Grupo': f'{nombre1}_R2', 'Cantidad': conteo1_f.get(modelo, 0), 'Color': colores['N_R2']},\n",
    "            {'Modelo': modelo, 'Grupo': f'{nombre2}_R2', 'Cantidad': conteo2_f.get(modelo, 0), 'Color': colores['F_R2']}\n",
    "        ])\n",
    "\n",
    "    df_plot = pd.DataFrame(data)\n",
    "    orden_grupos = [f'{nombre1}', f'{nombre2}', f'{nombre1}_R2', f'{nombre2}_R2']\n",
    "\n",
    "    plt.figure(figsize=(12, 6))\n",
    "    sns.barplot(data=df_plot, x='Modelo', y='Cantidad', hue='Grupo',\n",
    "                palette={fila['Grupo']: fila['Color'] for fila in data},\n",
    "                hue_order=orden_grupos,\n",
    "                edgecolor='black')\n",
    "\n",
    "    plt.title(f'Comparación de Modelos ({tipo}) - {nombre1} vs {nombre2}')\n",
    "    plt.ylabel('Cantidad de Artículos')\n",
    "    plt.xlabel('Modelos')\n",
    "    plt.legend(title='Grupo')\n",
    "    plt.tight_layout()\n",
    "    plt.grid(True)\n",
    "\n",
    "    ruta_guardado = \"Graficos/MENSUAL/Barras\"\n",
    "    os.makedirs(ruta_guardado, exist_ok=True)\n",
    "    \n",
    "    nombre_archivo = f\"{nombre1}_vs_{nombre2}_{tipo}.png\"\n",
    "    plt.savefig(os.path.join(ruta_guardado, nombre_archivo), dpi=300, bbox_inches='tight')\n",
    "    plt.show()"
   ]
  },
  {
   "cell_type": "code",
   "execution_count": null,
   "id": "fde20b84",
   "metadata": {},
   "outputs": [],
   "source": [
    "# Ejecutar para todos los pares\n",
    "for nombre1, nombre2 in pares:\n",
    "    graficar_comparacion(resultados_vs1[nombre1], resultados_vs1[nombre2], nombre1, nombre2, tipo='CL')\n",
    "    graficar_comparacion(resultados_vs2[nombre1], resultados_vs2[nombre2], nombre1, nombre2, tipo='CLK')"
   ]
  },
  {
   "cell_type": "code",
   "execution_count": null,
   "id": "099bead6",
   "metadata": {},
   "outputs": [],
   "source": [
    "#Graficar las tendencias crecientes y decrecientes de articulos con más recurrencia\n",
    "\n",
    "def graficar_top4_tendencia_por_modelo(df_ventas, df_resultados, df_tendencias, dfINFO, nombre_df, tipo=\"vs2\", r2_minimo=0.6):\n",
    "    import pandas as pd\n",
    "\n",
    "    if tipo == \"vs2\":\n",
    "        col_modelo = \"Modelo_ganador\"\n",
    "        col_r2 = \"R2_final\"\n",
    "    elif tipo == \"vs1\":\n",
    "        col_modelo = \"Mejor_Modelo_vs1\"\n",
    "        col_r2 = \"R2_vs1\"\n",
    "    else:\n",
    "        raise ValueError(\"tipo debe ser 'vs1' o 'vs2'\")\n",
    "\n",
    "    # Merge resultados + tendencias + filtro R2\n",
    "    df_merge = df_resultados.merge(df_tendencias, on=\"CODI\")\n",
    "    df_filtrado = df_merge[df_merge[col_r2] >= r2_minimo]\n",
    "\n",
    "    modelos_unicos = df_filtrado[col_modelo].unique()\n",
    "\n",
    "    for modelo in modelos_unicos:\n",
    "        df_modelo = df_filtrado[df_filtrado[col_modelo] == modelo].copy()\n",
    "\n",
    "        for tendencia_actual in [\"Creciente\", \"Decreciente\"]:\n",
    "            df_tendencia = df_modelo[df_modelo[\"Tendencia\"] == tendencia_actual].copy()\n",
    "\n",
    "            # Contar meses distintos con venta por producto\n",
    "            conteos = df_ventas[df_ventas[\"CODI\"].isin(df_tendencia[\"CODI\"])]\n",
    "            meses_por_producto = conteos.groupby(\"CODI\")[\"MES_NUM\"].nunique().reset_index()\n",
    "            meses_por_producto.rename(columns={\"MES_NUM\": \"MesesVendidos\"}, inplace=True)\n",
    "\n",
    "            df_tendencia = df_tendencia.merge(meses_por_producto, on=\"CODI\")\n",
    "            df_top4 = df_tendencia.sort_values(\"MesesVendidos\", ascending=False).head(4)\n",
    "\n",
    "            if len(df_top4) == 0:\n",
    "                print(f\"⚠️ Sin artículos {tendencia_actual} con modelo {modelo} y R2 >= {r2_minimo}\")\n",
    "                continue\n",
    "\n",
    "            print(f\"📊 Graficando top 4 {tendencia_actual} ({modelo}) de {nombre_df}...\")\n",
    "\n",
    "            graficar_topN(\n",
    "                df_ventas=df_ventas,\n",
    "                df_resultados=df_top4,\n",
    "                dfINFO=dfINFO,\n",
    "                nombre_df=f\"{nombre_df}_TOP4_{modelo}_{tendencia_actual}\",\n",
    "                tipo=tipo,\n",
    "                top_n=4\n",
    "            )"
   ]
  },
  {
   "cell_type": "code",
   "execution_count": null,
   "id": "85bbd690",
   "metadata": {},
   "outputs": [],
   "source": [
    "# Ejecutar el gráfico de tendencias solo en los conjuntos que tienen resultados\n",
    "conjuntos_modelados = [\"N_48_P\", \"N_48_NP\", \"F_48_P\", \"F_48_NP\"]\n",
    "\n",
    "for nombre_df in conjuntos_modelados:\n",
    "    df_ventas = dataframes_ventas[nombre_df]\n",
    "    df_resultados = resultados_vs2[nombre_df]\n",
    "    df_tendencias = tendencias_por_df[nombre_df]\n",
    "\n",
    "    graficar_top4_tendencia_por_modelo(\n",
    "        df_ventas=df_ventas,\n",
    "        df_resultados=df_resultados,\n",
    "        df_tendencias=df_tendencias,\n",
    "        dfINFO=dfINFO,\n",
    "        nombre_df=nombre_df,\n",
    "        tipo=\"vs2\",\n",
    "        r2_minimo=0.6\n",
    "    )\n"
   ]
  }
 ],
 "metadata": {
  "kernelspec": {
   "display_name": "Python 3",
   "language": "python",
   "name": "python3"
  },
  "language_info": {
   "codemirror_mode": {
    "name": "ipython",
    "version": 3
   },
   "file_extension": ".py",
   "mimetype": "text/x-python",
   "name": "python",
   "nbconvert_exporter": "python",
   "pygments_lexer": "ipython3",
   "version": "3.13.0"
  }
 },
 "nbformat": 4,
 "nbformat_minor": 5
}
